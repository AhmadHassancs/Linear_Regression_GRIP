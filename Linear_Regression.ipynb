{
  "nbformat": 4,
  "nbformat_minor": 0,
  "metadata": {
    "colab": {
      "name": "Sol1. Linear Regression.ipynb",
      "provenance": [],
      "collapsed_sections": []
    },
    "kernelspec": {
      "name": "python3",
      "display_name": "Python 3"
    }
  },
  "cells": [
    {
      "cell_type": "markdown",
      "metadata": {
        "id": "GzfdMfk10NE6"
      },
      "source": [
        "## **Linear Regression with Python Scikit Learn**\n",
        "In this section we will see how the Python Scikit-Learn library for machine learning can be used to implement regression functions. We will start with simple linear regression involving two variables.\n",
        "\n",
        "### **Simple Linear Regression**\n",
        "In this regression task we will predict the percentage of marks that a student is expected to score based upon the number of hours they studied. This is a simple linear regression task as it involves just two variables."
      ]
    },
    {
      "cell_type": "markdown",
      "metadata": {
        "id": "edJlGyhLG2c5"
      },
      "source": [
        "The formula for a simple linear regression is:\n",
        "\n",
        "![simple-linear-regression-formula.png](data:image/png;base64,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)\n",
        "\n",
        "y is the predicted value of the dependent variable (y) for any given value of the independent variable (x).\n",
        "B0 is the intercept, the predicted value of y when the x is 0.\n",
        "B1 is the regression coefficient – how much we expect y to change as x increases.\n",
        "x is the independent variable ( the variable we expect is influencing y).\n",
        "e is the error of the estimate, or how much variation there is in our estimate of the regression coefficient."
      ]
    },
    {
      "cell_type": "code",
      "metadata": {
        "id": "V9QN2ZxC38pB"
      },
      "source": [
        "# Importing all libraries required in this notebook\n",
        "import pandas as pd\n",
        "import numpy as np  \n",
        "\n",
        "from sklearn.linear_model import LinearRegression \n",
        "from sklearn.model_selection import train_test_split\n",
        "from sklearn import metrics\n",
        "\n",
        "import matplotlib.pyplot as plt  \n",
        "%matplotlib inline"
      ],
      "execution_count": 33,
      "outputs": []
    },
    {
      "cell_type": "code",
      "metadata": {
        "id": "LtU4YMEhqm9m"
      },
      "source": [
        "# Reading data from remote link\n",
        "url = \"http://bit.ly/w-data\"\n",
        "\n",
        "data = pd.read_csv(url)\n",
        "print(\"Data imported successfully\")\n",
        "\n",
        "data.head()"
      ],
      "execution_count": null,
      "outputs": []
    },
    {
      "cell_type": "code",
      "metadata": {
        "id": "I4P-G_luIORF"
      },
      "source": [
        "data.describe()"
      ],
      "execution_count": null,
      "outputs": []
    },
    {
      "cell_type": "markdown",
      "metadata": {
        "id": "RHsPneuM4NgB"
      },
      "source": [
        "Let's plot our data points on 2-D graph to eyeball our dataset and see if we can manually find any relationship between the data. We can create the plot with the following script:"
      ]
    },
    {
      "cell_type": "code",
      "metadata": {
        "id": "qxYBZkhAqpn9"
      },
      "source": [
        "# Plotting the distribution of scores\n",
        "data.plot(kind = \"scatter\", x = 'Hours', y = 'Scores', style = 'o', color = 'red')  \n",
        "plt.title('Hours vs Percentage')  \n",
        "\n",
        "plt.xlabel('Hours Studied')  \n",
        "plt.ylabel('Percentage Score')  \n",
        "\n",
        "plt.show()"
      ],
      "execution_count": null,
      "outputs": []
    },
    {
      "cell_type": "markdown",
      "metadata": {
        "id": "fiQaULio4Rzr"
      },
      "source": [
        "**From the graph above, we can clearly see that there is a positive linear relation between the number of hours studied and percentage of score.**"
      ]
    },
    {
      "cell_type": "markdown",
      "metadata": {
        "id": "WWtEr64M4jdz"
      },
      "source": [
        "### **Preparing the data**\n",
        "\n",
        "The next step is to divide the data into \"attributes\" (inputs) and \"labels\" (outputs)."
      ]
    },
    {
      "cell_type": "code",
      "metadata": {
        "id": "LiJ5210e4tNX"
      },
      "source": [
        "X = data.iloc[:, :-1].values  \n",
        "\n",
        "y = data.iloc[:, 1].values  "
      ],
      "execution_count": 24,
      "outputs": []
    },
    {
      "cell_type": "markdown",
      "metadata": {
        "id": "Riz-ZiZ34fO4"
      },
      "source": [
        "Now that we have our attributes and labels, the next step is to split this data into training and test sets. We'll do this by using Scikit-Learn's built-in train_test_split() method:"
      ]
    },
    {
      "cell_type": "code",
      "metadata": {
        "id": "udFYso1M4BNw"
      },
      "source": [
        "X_train, X_test, y_train, y_test = train_test_split(X, y, \n",
        "                            test_size=0.2, random_state=0) "
      ],
      "execution_count": 25,
      "outputs": []
    },
    {
      "cell_type": "markdown",
      "metadata": {
        "id": "a6WXptFU5CkC"
      },
      "source": [
        "### **Training the Algorithm**\n",
        "We have split our data into training and testing sets, and now is finally the time to train our algorithm. "
      ]
    },
    {
      "cell_type": "code",
      "metadata": {
        "id": "qddCuaS84fpK",
        "colab": {
          "base_uri": "https://localhost:8080/"
        },
        "outputId": "53669aa9-84e1-4283-cee0-d83ad3076f57"
      },
      "source": [
        "regressor = LinearRegression()  \n",
        "regressor.fit(X_train, y_train) \n",
        "\n",
        "print(\"Training complete.\")"
      ],
      "execution_count": 26,
      "outputs": [
        {
          "output_type": "stream",
          "text": [
            "Training complete.\n"
          ],
          "name": "stdout"
        }
      ]
    },
    {
      "cell_type": "code",
      "metadata": {
        "id": "J61NX2_2-px7"
      },
      "source": [
        "# Plotting the regression line\n",
        "line = regressor.coef_*X+regressor.intercept_\n",
        "\n",
        "# Plotting for the test data\n",
        "plt.scatter(X, y, c='red')\n",
        "plt.plot(X, line)\n",
        "\n",
        "plt.show()"
      ],
      "execution_count": null,
      "outputs": []
    },
    {
      "cell_type": "code",
      "metadata": {
        "id": "RAOmGjYmQd2I",
        "outputId": "e3e30bf1-a192-4e73-ce75-ebe3c1581dd6",
        "colab": {
          "base_uri": "https://localhost:8080/"
        }
      },
      "source": [
        "print(regressor.intercept_)\n",
        "\n",
        "print(regressor.coef_)"
      ],
      "execution_count": 32,
      "outputs": [
        {
          "output_type": "stream",
          "text": [
            "2.018160041434662\n",
            "[9.91065648]\n"
          ],
          "name": "stdout"
        }
      ]
    },
    {
      "cell_type": "markdown",
      "metadata": {
        "id": "JCQn-g4m5OK2"
      },
      "source": [
        "### **Making Predictions**\n",
        "Now that we have trained our algorithm, it's time to make some predictions."
      ]
    },
    {
      "cell_type": "code",
      "metadata": {
        "id": "Tt-Fmzu55EGM"
      },
      "source": [
        "print(X_test) # Testing data - In Hours\n",
        "y_pred = regressor.predict(X_test) # Predicting the scores"
      ],
      "execution_count": null,
      "outputs": []
    },
    {
      "cell_type": "code",
      "metadata": {
        "id": "6bmZUMZh5QLb"
      },
      "source": [
        "# Comparing Actual vs Predicted\n",
        "df = pd.DataFrame({'Actual': y_test, 'Predicted': y_pred})  \n",
        "df "
      ],
      "execution_count": null,
      "outputs": []
    },
    {
      "cell_type": "code",
      "metadata": {
        "id": "KAFO8zbx-AH1"
      },
      "source": [
        "# You can also test with your own data\n",
        "hours = [[9.25]]\n",
        "own_pred = regressor.predict(hours)\n",
        "\n",
        "print(\"No of Hours = {}\".format(hours))\n",
        "print(\"Predicted Score = {}\".format(own_pred[0]))"
      ],
      "execution_count": null,
      "outputs": []
    },
    {
      "cell_type": "markdown",
      "metadata": {
        "id": "0AAsPVA_6KmK"
      },
      "source": [
        "### **Evaluating the model**\n",
        "\n",
        "The final step is to evaluate the performance of algorithm. This step is particularly important to compare how well different algorithms perform on a particular dataset. For simplicity here, we have chosen the mean square error. There are many such metrics."
      ]
    },
    {
      "cell_type": "code",
      "metadata": {
        "id": "r5UOrRH-5VCQ"
      },
      "source": [
        "print('Mean Absolute Error:', metrics.mean_absolute_error(y_test, y_pred)) \n",
        "\n",
        "print('Mean Squared Error:', metrics.mean_squared_error(y_test, y_pred))\n",
        "\n",
        "print('Root Mean Squared Error:', np.sqrt(metrics.mean_absolute_error(y_test, y_pred)))"
      ],
      "execution_count": null,
      "outputs": []
    },
    {
      "cell_type": "code",
      "metadata": {
        "id": "jMY8XfiON2BU"
      },
      "source": [
        ""
      ],
      "execution_count": null,
      "outputs": []
    }
  ]
}